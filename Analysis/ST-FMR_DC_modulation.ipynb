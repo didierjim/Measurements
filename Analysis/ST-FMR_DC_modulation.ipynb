{
 "cells": [
  {
   "cell_type": "code",
   "execution_count": 1,
   "metadata": {},
   "outputs": [],
   "source": [
    "import numpy as np\n",
    "import matplotlib.pyplot as plt\n",
    "import pandas as pd\n",
    "import glob\n",
    "import os\n",
    "import csv\n",
    "import math\n",
    "from scipy import optimize"
   ]
  },
  {
   "cell_type": "code",
   "execution_count": 2,
   "metadata": {},
   "outputs": [],
   "source": [
    "%matplotlib inline\n",
    "\n",
    "gyro = 1.6e-19/9.1e-31 #Gyromagnetic magnetic ratio (C/kg)\n",
    "\n",
    "def Lorentzian(H, S, A, Delta, H0, V): \n",
    "    return ((S*Delta**2)+(A*(H-H0)*Delta))/(Delta**2+(H-H0)**2)+V\n",
    "def damping(f, alpha, delta0):\n",
    "    return 2*np.pi*(f*1e9)*alpha/gyro+delta0\n",
    "def Kittel(H0, demag):\n",
    "    return gyro/(2*np.pi)*(np.sqrt(H0*(H0+demag)))*1e-13\n",
    "def data_slicing(sliced_array,slicing_ind):\n",
    "    n = np.sum(slicing_ind)\n",
    "    np.append(sliced_array,0)\n",
    "    output = []\n",
    "    if len(sliced_array) == n:\n",
    "        cnt = 0\n",
    "        for i in range(len(slicing_ind)):\n",
    "            i_start=cnt\n",
    "            cnt+=slicing_ind[i]\n",
    "            i_stop=cnt\n",
    "            output.append(sliced_array[i_start:i_stop])\n",
    "    return output\n"
   ]
  },
  {
   "cell_type": "code",
   "execution_count": 4,
   "metadata": {},
   "outputs": [
    {
     "name": "stdout",
     "output_type": "stream",
     "text": [
      "(601, 2)\n"
     ]
    }
   ],
   "source": [
    "gaussscan = '/Users/didierjim/Documents/SCREAM/_Measurement/ST-FMR field calibration/220406/step10/\\\n",
    "3000FIX.csv'\n",
    "x2 = np.loadtxt(gaussscan,delimiter=',',skiprows=1,usecols=(0,2,))\n",
    "print(np.shape(x2[:,:]))"
   ]
  },
  {
   "cell_type": "markdown",
   "metadata": {},
   "source": [
    "# DC-modulation"
   ]
  },
  {
   "cell_type": "code",
   "execution_count": 6,
   "metadata": {},
   "outputs": [],
   "source": [
    "io = r'/Users/didierjim/Documents/SCREAM/_Measurement/2022-07-thickNM/SiO2.Co(t)/dc Co20/220822'\n",
    "Sample_name = '_'\n",
    "files = sorted(glob.glob(os.path.join(io,'*'+Sample_name+'*')), key = lambda path:float(path.split('_')[5].split('__Frequency')[0]))"
   ]
  },
  {
   "cell_type": "code",
   "execution_count": 8,
   "metadata": {},
   "outputs": [
    {
     "name": "stdout",
     "output_type": "stream",
     "text": [
      "16 [4, 4, 4, 4]\n",
      "[-1.5, -0.5, 0.5, 1.5]\n",
      "228L121_DC-modulation_I_(mA)_-1.5__Freq_(Ghz)_9.00_standard_2022-08-22-16-47-00.csv\n",
      "228L121_DC-modulation_I_(mA)_-1.5__Freq_(Ghz)_9.00_standard_2022-08-22-16-40-08.csv\n",
      "228L121_DC-modulation_I_(mA)_-1.5__Freq_(Ghz)_9.00_standard_2022-08-22-16-50-25.csv\n",
      "228L121_DC-modulation_I_(mA)_-1.5__Freq_(Ghz)_9.00_standard_2022-08-22-16-43-34.csv\n",
      "228L121_DC-modulation_I_(mA)_-0.5__Freq_(Ghz)_9.00_standard_2022-08-22-16-44-26.csv\n",
      "228L121_DC-modulation_I_(mA)_-0.5__Freq_(Ghz)_9.00_standard_2022-08-22-16-41-00.csv\n",
      "228L121_DC-modulation_I_(mA)_-0.5__Freq_(Ghz)_9.00_standard_2022-08-22-16-51-17.csv\n",
      "228L121_DC-modulation_I_(mA)_-0.5__Freq_(Ghz)_9.00_standard_2022-08-22-16-47-51.csv\n",
      "228L121_DC-modulation_I_(mA)_0.5__Freq_(Ghz)_9.00_standard_2022-08-22-16-52-06.csv\n",
      "228L121_DC-modulation_I_(mA)_0.5__Freq_(Ghz)_9.00_standard_2022-08-22-16-41-48.csv\n",
      "228L121_DC-modulation_I_(mA)_0.5__Freq_(Ghz)_9.00_standard_2022-08-22-16-45-14.csv\n",
      "228L121_DC-modulation_I_(mA)_0.5__Freq_(Ghz)_9.00_standard_2022-08-22-16-48-40.csv\n",
      "228L121_DC-modulation_I_(mA)_1.5__Freq_(Ghz)_9.00_standard_2022-08-22-16-46-06.csv\n",
      "228L121_DC-modulation_I_(mA)_1.5__Freq_(Ghz)_9.00_standard_2022-08-22-16-49-32.csv\n",
      "228L121_DC-modulation_I_(mA)_1.5__Freq_(Ghz)_9.00_standard_2022-08-22-16-52-57.csv\n",
      "228L121_DC-modulation_I_(mA)_1.5__Freq_(Ghz)_9.00_standard_2022-08-22-16-42-40.csv\n"
     ]
    }
   ],
   "source": [
    "IDC = []\n",
    "for i in range(len(files)):\n",
    "    IDC.append(float(files[i].split('_')[5].split('__Frequency')[0]))\n",
    "#print(IDC)\n",
    "\n",
    "file_count = []\n",
    "Iappl = []\n",
    "cnt = 1\n",
    "for j in range(1,len(files)):\n",
    "    if IDC[j] == IDC[j-1]:\n",
    "        cnt += 1\n",
    "    else:\n",
    "        file_count.append(cnt)\n",
    "        Iappl.append(IDC[j-1])\n",
    "        cnt = 1\n",
    "    if j == len(files)-1:\n",
    "        file_count.append(cnt)\n",
    "        Iappl.append(IDC[j])\n",
    "print(np.sum(file_count), file_count)\n",
    "print(Iappl)\n",
    "for i in range(len(files)):\n",
    "    print(files[i].split('/')[-1])"
   ]
  },
  {
   "cell_type": "code",
   "execution_count": 9,
   "metadata": {},
   "outputs": [
    {
     "name": "stdout",
     "output_type": "stream",
     "text": [
      "1242.66 1216.85\n",
      "\n",
      "max at -900.0 Oe, min at 100.0 Oe, Hr = -400.0\n",
      "<class 'float'>\n",
      "145 195\n"
     ]
    }
   ],
   "source": [
    "# Find Hr\n",
    "#import_files = pd.read_csv(files[int(len(files)/2-3)])\n",
    "import_files = pd.read_csv(files[-3])\n",
    "result = import_files.values\n",
    "Datamax, Datamin = np.max(result[:,1]), np.min(result[:,1])\n",
    "print(Datamax, Datamin)\n",
    "Hr = float((result[result[:,1]==Datamax,0][0]+result[result[:,1]==Datamin,0][0])/2)\n",
    "print('\\nmax at',result[result[:,1]==Datamax,0][0],'Oe, min at',result[result[:,1]==Datamin,0][0], 'Oe, Hr =', Hr)\n",
    "print(type(Hr))\n",
    "\n",
    "max_ind = int(np.where(result[:,1]==Datamax)[0][0])\n",
    "min_ind = int(np.where(result[:,1]==Datamin)[0][0])\n",
    "\n",
    "if max_ind > min_ind:\n",
    "    p_ind, n_ind = min_ind, max_ind\n",
    "elif max_ind < min_ind:\n",
    "    p_ind, n_ind = max_ind, min_ind\n",
    "    \n",
    "print(p_ind, n_ind)"
   ]
  },
  {
   "cell_type": "code",
   "execution_count": 16,
   "metadata": {
    "scrolled": true
   },
   "outputs": [
    {
     "name": "stdout",
     "output_type": "stream",
     "text": [
      "Fitting Region chosen is too large!!!!\n"
     ]
    },
    {
     "ename": "RuntimeError",
     "evalue": "Optimal parameters not found: Number of calls to function has reached maxfev = 1200.",
     "output_type": "error",
     "traceback": [
      "\u001b[0;31m---------------------------------------------------------------------------\u001b[0m",
      "\u001b[0;31mRuntimeError\u001b[0m                              Traceback (most recent call last)",
      "\u001b[0;32m<ipython-input-16-db39674b9540>\u001b[0m in \u001b[0;36m<module>\u001b[0;34m\u001b[0m\n\u001b[1;32m     34\u001b[0m \u001b[0;34m\u001b[0m\u001b[0m\n\u001b[1;32m     35\u001b[0m     \u001b[0;31m#plt.plot(H_p,Vmix_p,'o',markerfacecolor='none',markeredgewidth = 2,markersize = 9)\u001b[0m\u001b[0;34m\u001b[0m\u001b[0;34m\u001b[0m\u001b[0;34m\u001b[0m\u001b[0m\n\u001b[0;32m---> 36\u001b[0;31m     \u001b[0mpara_L\u001b[0m\u001b[0;34m,\u001b[0m \u001b[0mcov_L\u001b[0m \u001b[0;34m=\u001b[0m \u001b[0moptimize\u001b[0m\u001b[0;34m.\u001b[0m\u001b[0mcurve_fit\u001b[0m\u001b[0;34m(\u001b[0m\u001b[0mLorentzian\u001b[0m\u001b[0;34m,\u001b[0m\u001b[0mH_p\u001b[0m\u001b[0;34m,\u001b[0m\u001b[0mVmix_p\u001b[0m\u001b[0;34m,\u001b[0m \u001b[0;34m[\u001b[0m\u001b[0;36m1.0\u001b[0m\u001b[0;34m,\u001b[0m \u001b[0;36m1.0\u001b[0m\u001b[0;34m,\u001b[0m \u001b[0;36m100\u001b[0m\u001b[0;34m,\u001b[0m \u001b[0;36m500\u001b[0m\u001b[0;34m,\u001b[0m \u001b[0;36m280\u001b[0m\u001b[0;34m]\u001b[0m\u001b[0;34m)\u001b[0m\u001b[0;34m\u001b[0m\u001b[0;34m\u001b[0m\u001b[0m\n\u001b[0m\u001b[1;32m     37\u001b[0m     \u001b[0mplt\u001b[0m\u001b[0;34m.\u001b[0m\u001b[0mfigure\u001b[0m\u001b[0;34m(\u001b[0m\u001b[0mfigsize\u001b[0m \u001b[0;34m=\u001b[0m \u001b[0;34m(\u001b[0m\u001b[0;36m10\u001b[0m\u001b[0;34m,\u001b[0m\u001b[0;36m6\u001b[0m\u001b[0;34m)\u001b[0m\u001b[0;34m)\u001b[0m\u001b[0;34m\u001b[0m\u001b[0;34m\u001b[0m\u001b[0m\n\u001b[1;32m     38\u001b[0m     \u001b[0mplt\u001b[0m\u001b[0;34m.\u001b[0m\u001b[0mplot\u001b[0m\u001b[0;34m(\u001b[0m\u001b[0mH_p\u001b[0m\u001b[0;34m,\u001b[0m\u001b[0mVmix_p\u001b[0m\u001b[0;34m,\u001b[0m\u001b[0;34m'o'\u001b[0m\u001b[0;34m,\u001b[0m\u001b[0mmarkerfacecolor\u001b[0m\u001b[0;34m=\u001b[0m\u001b[0;34m'none'\u001b[0m\u001b[0;34m,\u001b[0m\u001b[0mmarkeredgewidth\u001b[0m \u001b[0;34m=\u001b[0m \u001b[0;36m2\u001b[0m\u001b[0;34m,\u001b[0m\u001b[0mmarkersize\u001b[0m \u001b[0;34m=\u001b[0m \u001b[0;36m9\u001b[0m\u001b[0;34m)\u001b[0m\u001b[0;34m\u001b[0m\u001b[0;34m\u001b[0m\u001b[0m\n",
      "\u001b[0;32m~/opt/anaconda3/lib/python3.8/site-packages/scipy/optimize/_minpack_py.py\u001b[0m in \u001b[0;36mcurve_fit\u001b[0;34m(f, xdata, ydata, p0, sigma, absolute_sigma, check_finite, bounds, method, jac, **kwargs)\u001b[0m\n\u001b[1;32m    792\u001b[0m         \u001b[0mcost\u001b[0m \u001b[0;34m=\u001b[0m \u001b[0mnp\u001b[0m\u001b[0;34m.\u001b[0m\u001b[0msum\u001b[0m\u001b[0;34m(\u001b[0m\u001b[0minfodict\u001b[0m\u001b[0;34m[\u001b[0m\u001b[0;34m'fvec'\u001b[0m\u001b[0;34m]\u001b[0m \u001b[0;34m**\u001b[0m \u001b[0;36m2\u001b[0m\u001b[0;34m)\u001b[0m\u001b[0;34m\u001b[0m\u001b[0;34m\u001b[0m\u001b[0m\n\u001b[1;32m    793\u001b[0m         \u001b[0;32mif\u001b[0m \u001b[0mier\u001b[0m \u001b[0;32mnot\u001b[0m \u001b[0;32min\u001b[0m \u001b[0;34m[\u001b[0m\u001b[0;36m1\u001b[0m\u001b[0;34m,\u001b[0m \u001b[0;36m2\u001b[0m\u001b[0;34m,\u001b[0m \u001b[0;36m3\u001b[0m\u001b[0;34m,\u001b[0m \u001b[0;36m4\u001b[0m\u001b[0;34m]\u001b[0m\u001b[0;34m:\u001b[0m\u001b[0;34m\u001b[0m\u001b[0;34m\u001b[0m\u001b[0m\n\u001b[0;32m--> 794\u001b[0;31m             \u001b[0;32mraise\u001b[0m \u001b[0mRuntimeError\u001b[0m\u001b[0;34m(\u001b[0m\u001b[0;34m\"Optimal parameters not found: \"\u001b[0m \u001b[0;34m+\u001b[0m \u001b[0merrmsg\u001b[0m\u001b[0;34m)\u001b[0m\u001b[0;34m\u001b[0m\u001b[0;34m\u001b[0m\u001b[0m\n\u001b[0m\u001b[1;32m    795\u001b[0m     \u001b[0;32melse\u001b[0m\u001b[0;34m:\u001b[0m\u001b[0;34m\u001b[0m\u001b[0;34m\u001b[0m\u001b[0m\n\u001b[1;32m    796\u001b[0m         \u001b[0;31m# Rename maxfev (leastsq) to max_nfev (least_squares), if specified.\u001b[0m\u001b[0;34m\u001b[0m\u001b[0;34m\u001b[0m\u001b[0;34m\u001b[0m\u001b[0m\n",
      "\u001b[0;31mRuntimeError\u001b[0m: Optimal parameters not found: Number of calls to function has reached maxfev = 1200."
     ]
    },
    {
     "data": {
      "text/plain": [
       "<Figure size 1080x720 with 0 Axes>"
      ]
     },
     "metadata": {},
     "output_type": "display_data"
    }
   ],
   "source": [
    "Hr = -200\n",
    "\n",
    "para_p = np.zeros((len(files), 6))\n",
    "para_n = np.zeros((len(files), 6))\n",
    "std_err_p = []\n",
    "std_err_n = []\n",
    "points = 120\n",
    "\n",
    "plt.figure(figsize = (15,10))\n",
    "for i in range(len(files)):\n",
    "#for i in range(5):\n",
    "    import_files = pd.read_csv(files[i])\n",
    "    result = import_files.values\n",
    "    Datamax, Datamin = np.max(result[:,1]), np.min(result[:,1])\n",
    "    #Hr = float(((result[result[:,1]==Datamax,0]+result[result[:,1]==Datamin,0])/2)[0])\n",
    "    \n",
    "    max_ind = int(np.where(result[:,1]==Datamax)[0][0])\n",
    "    min_ind = int(np.where(result[:,1]==Datamin)[0][0])\n",
    "\n",
    "    if max_ind > min_ind:\n",
    "        p_ind, n_ind = min_ind, max_ind\n",
    "    elif max_ind < min_ind:\n",
    "        p_ind, n_ind = max_ind, min_ind\n",
    "    \n",
    "    results = pd.read_csv(files[i])\n",
    "    length = len(results.values[:,0])\n",
    "    #H_p = results.values[p_ind-points:p_ind+points,0]-Hr\n",
    "    #Vmix_p = results.values[p_ind-points:p_ind+points,1]\n",
    "    H_p0 = results.values[int(length*0.35):int(length*0.4),0]-Hr\n",
    "    H_p = x2[int(length*0.35):int(length*0.4),1]*-1\n",
    "    Vmix_p = results.values[int(length*0.35):int(length*0.4),1]\n",
    "    if p_ind-points < 0 or n_ind+points > len(results.values):\n",
    "        print('Fitting Region chosen is too large!!!!')\n",
    "    \n",
    "    #plt.plot(H_p,Vmix_p,'o',markerfacecolor='none',markeredgewidth = 2,markersize = 9)\n",
    "    para_L, cov_L = optimize.curve_fit(Lorentzian,H_p,Vmix_p, [1.0, 1.0, 100, 500, 280])\n",
    "    plt.figure(figsize = (10,6))\n",
    "    plt.plot(H_p,Vmix_p,'o',markerfacecolor='none',markeredgewidth = 2,markersize = 9)\n",
    "    plt.plot(H_p, Lorentzian(H_p,para_L[0],para_L[1],para_L[2],para_L[3],para_L[4]), label = files[i].split('/')[-1].split('_')[-1],color = 'black', linewidth = 2)\n",
    "    para_p[i,0] = IDC[i]\n",
    "    para_p[i,1:] = para_L\n",
    "    std_err_p.append(np.sqrt(np.diag(cov_L))[2])\n",
    "    \n",
    "    #H_n = results.values[n_ind-points:n_ind+points,0]-Hr\n",
    "    #Vmix_n = results.values[n_ind-points:n_ind+points,1]\n",
    "    H_n0 = results.values[int(length*0.57):int(length*0.85),0]-Hr\n",
    "    H_n = x2[int(length*0.57):int(length*0.85),1]*-1\n",
    "    Vmix_n = results.values[int(length*0.57):int(length*0.85),1]\n",
    "    #plt.plot(H_p,Vmix_p,'o',markerfacecolor='none',markeredgewidth = 2,markersize = 9)\n",
    "    para_L, cov_L = optimize.curve_fit(Lorentzian,H_n,Vmix_n, [0.0, 0.0, -80, -1000, 280])\n",
    "    plt.plot(H_n,Vmix_n,'o',markerfacecolor='none',markeredgewidth = 2,markersize = 9)\n",
    "    plt.plot(H_n, Lorentzian(H_n,para_L[0],para_L[1],para_L[2],para_L[3],para_L[4]), label = IDC[i],color = 'black', linewidth = 2)\n",
    "    para_n[i,0] = IDC[i]\n",
    "    para_n[i,1:] = para_L\n",
    "    std_err_n.append(np.sqrt(np.diag(cov_L))[2])\n",
    "\n",
    "    plt.legend()\n"
   ]
  },
  {
   "cell_type": "code",
   "execution_count": 40,
   "metadata": {},
   "outputs": [
    {
     "name": "stdout",
     "output_type": "stream",
     "text": [
      "positive SHA++++++++\n",
      "p= -0.092 +- 0.055 \n",
      "n= 0.014 +- 0.037\n"
     ]
    },
    {
     "data": {
      "text/plain": [
       "[<matplotlib.lines.Line2D at 0x7f8899b42460>]"
      ]
     },
     "execution_count": 40,
     "metadata": {},
     "output_type": "execute_result"
    },
    {
     "data": {
      "image/png": "[encoded data removed]",
      "text/plain": [
       "<Figure size 576x432 with 1 Axes>"
      ]
     },
     "metadata": {
      "needs_background": "light"
     },
     "output_type": "display_data"
    }
   ],
   "source": [
    "#error bar by linewidth fitting\n",
    "\n",
    "plt.figure(figsize = (8,6))\n",
    "plt.errorbar(IDC, abs(para_p[:,3]),yerr = std_err_p, fmt='o',ecolor='r',color='r',elinewidth=2,capsize=4)\n",
    "plt.errorbar(IDC, abs(para_n[:,3]),yerr = std_err_n, fmt='o',ecolor='b',color='b',elinewidth=2,capsize=4)\n",
    "plt.xlim(np.min(Iappl)-0.8,np.max(Iappl)+0.8)\n",
    "#plt.ylim(100,160)\n",
    "\n",
    "x = np.arange(np.min(Iappl)-1,np.max(Iappl)+1,0.1)\n",
    "Rp, Covp = np.polyfit(IDC, abs(para_p[:,3]),1,cov=True)\n",
    "Rn,Covn = np.polyfit(IDC, abs(para_n[:,3]),1,cov=True)\n",
    "\n",
    "if Rp[0]>0 and Rn[0]<0:\n",
    "    print('negative SHA--------')\n",
    "elif Rp[0]<0 and Rn[0]>0:\n",
    "    print('positive SHA++++++++')\n",
    "    \n",
    "print('p=',np.around(Rp[0],3),'+-',np.around(np.sqrt(np.diag(Covp))[0],3),\n",
    "      '\\nn=',np.around(Rn[0],3),'+-',np.around(np.sqrt(np.diag(Covn))[0],3))\n",
    "plt.plot(x,Rp[0]*x+Rp[1],color='r')\n",
    "plt.plot(x,Rn[0]*x+Rn[1],color='b')\n",
    "\n",
    "#for i in range(len(IDC)):\n",
    "#    print(IDC[i],abs(para_p[i,3]),std_err_p[i],abs(para_n[i,3]),std_err_n[i])"
   ]
  },
  {
   "cell_type": "code",
   "execution_count": 27,
   "metadata": {},
   "outputs": [
    {
     "name": "stdout",
     "output_type": "stream",
     "text": [
      "IDC= -15.0 \tDp= [44.35 50.24 56.13 49.95 57.28]\n",
      "IDC= -10.0 \tDp= [51.93 43.42 54.12 49.63 46.65]\n",
      "IDC= -5.0 \tDp= [51.4  48.81 47.64 48.28 57.55]\n",
      "IDC= 0.0 \tDp= [51.9  47.39 50.96 51.55 50.26]\n",
      "IDC= 5.0 \tDp= [50.38 52.88 49.56 50.14 51.57]\n",
      "IDC= 10.0 \tDp= [49.21 44.33 45.54 48.8  49.82]\n",
      "IDC= 15.0 \tDp= [48.13 45.28 48.36 50.34 49.42]\n",
      "\n",
      "p= -0.092 +- 0.046 \n",
      "n= 0.014 +- 0.053\n"
     ]
    },
    {
     "data": {
      "text/plain": [
       "Text(0.5, 1.0, 'shifted')"
      ]
     },
     "execution_count": 27,
     "metadata": {},
     "output_type": "execute_result"
    },
    {
     "data": {
      "image/png": "[encoded data removed]",
      "text/plain": [
       "<Figure size 1080x432 with 2 Axes>"
      ]
     },
     "metadata": {
      "needs_background": "light"
     },
     "output_type": "display_data"
    }
   ],
   "source": [
    "#error bar by multiple measurements\n",
    "Delta_p_all = data_slicing(abs(para_p[:,3]),file_count)\n",
    "Delta_n_all = data_slicing(abs(para_n[:,3]),file_count)\n",
    "\n",
    "Delta_p = []\n",
    "Delta_n = []\n",
    "Dp_err = []\n",
    "Dn_err = []\n",
    "\n",
    "for k in range(len(file_count)):\n",
    "    Delta_p.append(np.mean(Delta_p_all[k]))\n",
    "    Delta_n.append(np.mean(Delta_n_all[k]))\n",
    "    Dp_err.append(np.std(Delta_p_all[k]))\n",
    "    Dn_err.append(np.std(Delta_n_all[k]))\n",
    "    print('IDC=',Iappl[k],'\\tDp=',np.around(Delta_p_all[k],2))\n",
    "    \n",
    "x = np.arange(np.min(Iappl)*2,np.max(Iappl)*2,0.1)\n",
    "Z1,covz1 = np.polyfit(Iappl,Delta_p,1,cov=True)\n",
    "Z2,covz2 = np.polyfit(Iappl,Delta_n,1,cov=True)\n",
    "\n",
    "plt.figure(figsize = (15,6))\n",
    "plt.subplot(121)\n",
    "plt.plot(x,Z1[0]*x+Z1[1],color='r')\n",
    "plt.plot(x,Z2[0]*x+Z2[1],color='b')\n",
    "        \n",
    "plt.errorbar(Iappl,Delta_p,yerr=Dp_err, fmt='o',ecolor='r',color='r',elinewidth=2,capsize=4)\n",
    "plt.errorbar(Iappl,Delta_n,yerr=Dn_err, fmt='o',ecolor='b',color='b',elinewidth=2,capsize=4)\n",
    "\n",
    "plt.subplot(122)\n",
    "\n",
    "plt.plot(x,Z1[0]*x,color='r')\n",
    "plt.plot(x,Z2[0]*x,color='b')\n",
    "print('\\np=',np.around(Z1[0],3),'+-',np.around(np.sqrt(np.diag(covz1))[0],3),\n",
    "      '\\nn=',np.around(Z2[0],3),'+-',np.around(np.sqrt(np.diag(covz2))[0],3))\n",
    "        \n",
    "plt.errorbar(Iappl,Delta_p-Z1[1],yerr=Dp_err, fmt='o',ecolor='r',color='r',elinewidth=2,capsize=4)\n",
    "plt.errorbar(Iappl,Delta_n-Z2[1],yerr=Dn_err, fmt='o',ecolor='b',color='b',elinewidth=2,capsize=4)\n",
    "#print('Delta=\\t',np.around(Delta_p,1))\n",
    "#print('err=\\t',np.around(Dp_err,2))\n",
    "plt.title('shifted')"
   ]
  },
  {
   "cell_type": "code",
   "execution_count": 28,
   "metadata": {},
   "outputs": [
    {
     "name": "stdout",
     "output_type": "stream",
     "text": [
      "Iappl_raw\tDp_raw\tDp_raw_err\tDn_raw\tDn_raw_err\tIappl\tDp\tDp_shft\tDp_err\tDn\tDn_shft\tDn_err\tx\typ_raw\tyn_raw\typ\tyn\typ_shft\tyn_shft\t\n",
      "511.5938409235167\n"
     ]
    }
   ],
   "source": [
    "#Output data\n",
    "filename = '225deg-Cr20Co15'\n",
    "\n",
    "#Construct dict\n",
    "DATA_dict = {\"Iappl_raw\":IDC,\n",
    "             \"Dp_raw\":abs(para_p[:,3]),\n",
    "             \"Dp_raw_err\":std_err_p,\n",
    "             \"Dn_raw\":abs(para_n[:,3]),\n",
    "             \"Dn_raw_err\":std_err_n,\n",
    "             \"Iappl\":Iappl, \n",
    "             \"Dp\":Delta_p, \n",
    "             \"Dp_shft\":Delta_p-Z1[1],\n",
    "             \"Dp_err\":Dp_err, \n",
    "             \"Dn\":Delta_n, \n",
    "             \"Dn_shft\":Delta_n-Z2[1],\n",
    "             \"Dn_err\":Dn_err}\n",
    "\n",
    "FIT_dict = {\"x\":x,\n",
    "            \"yp_raw\":Rp[0]*x+Rp[1],\n",
    "            \"yn_raw\":Rn[0]*x+Rn[1],\n",
    "            \"yp\":Z1[0]*x+Z1[1],\n",
    "            \"yn\":Z2[0]*x+Z2[1],\n",
    "            \"yp_shft\":Z1[0]*x,\n",
    "            \"yn_shft\":Z2[0]*x}\n",
    "\n",
    "\n",
    "header = ''\n",
    "OUTPUT = np.ones((len(x)+9,19))*np.nan\n",
    "\n",
    "cnt = 0\n",
    "for key in DATA_dict.keys():\n",
    "    header+=key+'\\t'\n",
    "    l = len(DATA_dict[key])\n",
    "    OUTPUT[:l,cnt] = DATA_dict[key]\n",
    "    cnt+=1\n",
    "    \n",
    "for key in FIT_dict.keys():\n",
    "    header+=key+'\\t'\n",
    "    l = len(FIT_dict[key])\n",
    "    OUTPUT[:l,cnt] = FIT_dict[key]\n",
    "    cnt+=1\n",
    "#print(OUTPUT)\n",
    "\n",
    "print(header)\n",
    "np.savetxt(filename,OUTPUT,delimiter='\\t',header=header)\n",
    "print(np.average(para_p[:,4]))"
   ]
  },
  {
   "cell_type": "code",
   "execution_count": 41,
   "metadata": {},
   "outputs": [
    {
     "name": "stdout",
     "output_type": "stream",
     "text": [
      "(7, 5)\n"
     ]
    },
    {
     "data": {
      "image/png": "[encoded data removed]",
      "text/plain": [
       "<Figure size 1224x360 with 2 Axes>"
      ]
     },
     "metadata": {
      "needs_background": "light"
     },
     "output_type": "display_data"
    }
   ],
   "source": [
    "i = -2\n",
    "ti=['Idc','S', 'A', 'Delta', 'H0', 'offset']\n",
    "\n",
    "plt.figure(figsize=(17,5))\n",
    "plt.subplot(121)\n",
    "plt.plot(IDC,para_p[:,1]/para_p[:,2],'ro')\n",
    "plt.plot(IDC,para_n[:,1]/para_n[:,2],'bo')\n",
    "#plt.title(ti[i])\n",
    "plt.title(\"S/A ratio\")\n",
    "print(np.shape(data_slicing(para_p[:,1],file_count)))\n",
    "plt.ylim(-2,2)\n",
    "\n",
    "plt.subplot(122)\n",
    "plt.plot(IDC,para_p[:,i],'ro')\n",
    "plt.plot(IDC,-para_n[:,i],'bo')\n",
    "plt.title(ti[i])\n",
    "#print(np.shape(data_slicing(para_p[:,i],file_count)))\n",
    "\n",
    "for j in range(len(IDC)):\n",
    "    #A = (IDC[j],para_p[j,1]/para_p[j,2],para_n[j,1]/para_n[j,2])\n",
    "    A = (IDC[j],para_p[j,i],para_n[j,i])\n",
    "    #print(A[0])"
   ]
  },
  {
   "cell_type": "code",
   "execution_count": 30,
   "metadata": {},
   "outputs": [],
   "source": [
    "para_header='I_p\\tS\\tA\\tSA\\tH0\\tV0\\tI_n\\tS\\tA\\tSA\\tH0\\tV0'\n",
    "PARA = np.zeros((len(IDC),12))\n",
    "for i in range(len(IDC)):\n",
    "    PARA[i,0:6] = para_p[i,:]\n",
    "    PARA[i,6:12] = para_n[i,:]\n",
    "\n",
    "PARA[:,3] = PARA[:,1]/PARA[:,2]\n",
    "PARA[:,9] = PARA[:,7]/PARA[:,8]\n",
    "np.savetxt('PARAs '+filename,PARA,delimiter='\\t',header=para_header)"
   ]
  },
  {
   "cell_type": "code",
   "execution_count": 224,
   "metadata": {},
   "outputs": [
    {
     "data": {
      "text/plain": [
       "[array([41.29014599, 43.55255047, 44.25937721]),\n",
       " array([41.84650545, 42.98801016, 43.71726776]),\n",
       " array([45.12843447, 44.42471287, 45.08271233]),\n",
       " array([42.94224028, 43.07212454, 41.57935772]),\n",
       " array([43.27653542, 42.69427403, 41.93308044]),\n",
       " array([43.00135525, 41.70425622, 43.24774723]),\n",
       " array([43.37682834, 42.59859859, 43.44614793]),\n",
       " array([42.56060527, 42.45042803, 43.40232914]),\n",
       " array([41.54543493, 42.22948206, 43.45110427]),\n",
       " array([41.48146999, 41.62453948, 41.33313835]),\n",
       " array([38.92746403, 42.51662707, 40.50829532])]"
      ]
     },
     "execution_count": 224,
     "metadata": {},
     "output_type": "execute_result"
    }
   ],
   "source": [
    "data_slicing(abs(para_p[:,1]),file_count)"
   ]
  },
  {
   "cell_type": "code",
   "execution_count": 82,
   "metadata": {},
   "outputs": [
    {
     "name": "stdout",
     "output_type": "stream",
     "text": [
      "eff/slope =  0.07294336845065136\n",
      "[0.29177347]\n"
     ]
    }
   ],
   "source": [
    "#dc efficiency\n",
    "import numpy as np\n",
    "\n",
    "tHM = 4e-9 # thickness of spin Hall material (meters) \n",
    "tFM = 2e-9 # thickness of magnetic layer - dead layer (meters)\n",
    "Ms = 640 * 1000 # saturization magnetization (A/m)\n",
    "u0 = 4*3.14159e-7 #Vacuum permeability (Wb/(A*m))\n",
    "hbar = 1.05e-34 #Planck's constant/2pi (m2*kg/s)\n",
    "gyro = 1.6e-19/9.1e-31 #Gyromagnetic magnetic ratio (C/kg)\n",
    "w = 5e-6\n",
    "f = 7e9\n",
    "\n",
    "H0 = 700/10000 #Tesla\n",
    "Hd = 8050/10000 #Tesla\n",
    "rhoHM = 200\n",
    "rhoFM = 40\n",
    "\n",
    "I = 2*np.pi*f/gyro\n",
    "II = np.sin(45/180*np.pi)/((H0+Hd/2)*u0*Ms*tFM)*(hbar/(2*1.6e-19))\n",
    "III = 1/w/(tHM+tFM*rhoHM/rhoFM)\n",
    "factor = 1/I/II/III*1e6/4/np.pi\n",
    "\n",
    "print('eff/slope = ',factor)\n",
    "slope = np.array([4])\n",
    "print(slope*factor)\n",
    "\n",
    "\n",
    "#print('\\neffp=',np.around(Z1[0]*factor,3),'+-',np.around(np.sqrt(np.diag(covz1))[0]*factor,3),\n",
    "#      '\\neffn=',np.around(Z2[0]*factor,3),'+-',np.around(np.sqrt(np.diag(covz2))[0]*factor,3))\n",
    "\n",
    "#print('p=',np.around(Rp[0]*factor,3),'+-',np.around(np.sqrt(np.diag(Covp))[0]*factor,3),\n",
    "#      '\\nn=',np.around(Rn[0]*factor,3),'+-',np.around(np.sqrt(np.diag(Covn))[0]*factor,3))"
   ]
  },
  {
   "cell_type": "code",
   "execution_count": 38,
   "metadata": {},
   "outputs": [
    {
     "name": "stdout",
     "output_type": "stream",
     "text": [
      "SA eff =  -0.4545144700342856\n"
     ]
    }
   ],
   "source": [
    "\n",
    "SAfactor=1.6e-19*u0*Ms*tHM*tFM/hbar*np.sqrt(1+Hd/H0)\n",
    "\n",
    "TR=-40\n",
    "TRfactor=1.6e-19*u0*Ms*tHM*tFM/hbar\n",
    "print('SA eff = ',TR*TRfactor)"
   ]
  },
  {
   "cell_type": "code",
   "execution_count": 101,
   "metadata": {},
   "outputs": [
    {
     "name": "stdout",
     "output_type": "stream",
     "text": [
      "eff/slope =  0.4468284612342481\n",
      "[0.76407667 0.15326216 0.04200188 0.13628268]\n"
     ]
    }
   ],
   "source": [
    "#miltilayer dc efficiency\n",
    "import numpy as np\n",
    "#constant\n",
    "u0 = 4*3.14159e-7 #Vacuum permeability (Wb/(A*m))\n",
    "hbar = 1.05e-34 #Planck's constant/2pi (m2*kg/s)\n",
    "gyro = 1.6e-19/9.1e-31 #Gyromagnetic magnetic ratio (C/kg)\n",
    "\n",
    "#parameters\n",
    "tHM = 1.5e-9 # thickness of spin Hall material (meters)\n",
    "tFM = 5e-9 # thickness of magnetic layer - dead layer (meters)\n",
    "tIN = 7e-9 # thickness of non-interacting layer (only for shunting) (meters)\n",
    "\n",
    "Ms = 1026.26 * 1000 # saturization magnetization (A/m)\n",
    "w = 10e-6\n",
    "f = 9e9\n",
    "\n",
    "H0 = 701/10000 #Tesla\n",
    "Hd = 14500/10000 #Tesla\n",
    "rhoHM = 27.4 #uOhm-cm\n",
    "rhoFM = 26.6\n",
    "rhoIN = 126.0\n",
    "\n",
    "I = 2*np.pi*f/gyro #dW/dAlpha = linewidth-damping const conversion\n",
    "II = np.sin(45/180*np.pi)/((H0+Hd/2)*u0*Ms*tFM)*(hbar/(2*1.6e-19)) #factors concerning FMR\n",
    "III = (1/(w*tHM))*((tHM/rhoHM)/((tHM/rhoHM)+(tFM/rhoFM)+(tIN/rhoIN))) #current shunting\n",
    "factor = 1/I/II/III*1e6/4/np.pi\n",
    "\n",
    "print('eff/slope = ',factor)\n",
    "slope = np.array([1.710,0.343,0.094,0.305])\n",
    "print(slope*factor)"
   ]
  },
  {
   "cell_type": "code",
   "execution_count": null,
   "metadata": {},
   "outputs": [],
   "source": []
  },
  {
   "cell_type": "code",
   "execution_count": null,
   "metadata": {},
   "outputs": [],
   "source": []
  }
 ],
 "metadata": {
  "kernelspec": {
   "display_name": "Python 3",
   "language": "python",
   "name": "python3"
  },
  "language_info": {
   "codemirror_mode": {
    "name": "ipython",
    "version": 3
   },
   "file_extension": ".py",
   "mimetype": "text/x-python",
   "name": "python",
   "nbconvert_exporter": "python",
   "pygments_lexer": "ipython3",
   "version": "3.8.5"
  }
 },
 "nbformat": 4,
 "nbformat_minor": 5
}
